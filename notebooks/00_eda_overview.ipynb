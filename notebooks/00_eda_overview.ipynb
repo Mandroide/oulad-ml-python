{
 "cells": [
  {
   "cell_type": "markdown",
   "id": "36a0fa64fce8d6cc",
   "metadata": {},
   "source": [
    "# Caso práctico 4 [COLABORATIVO]: [OULAD Dataset](https://analyse.kmi.open.ac.uk/open-dataset)"
   ]
  },
  {
   "cell_type": "markdown",
   "id": "41f3ad72a8cd3d4b",
   "metadata": {},
   "source": [
    "## Librerías y variables reusables"
   ]
  },
  {
   "cell_type": "code",
   "execution_count": null,
   "id": "9b3ac335a2325baf",
   "metadata": {
    "ExecuteTime": {
     "end_time": "2025-06-26T01:52:47.823267Z",
     "start_time": "2025-06-26T01:52:47.814221Z"
    }
   },
   "outputs": [],
   "source": [
    "import pandas as pd\n",
    "import matplotlib.pyplot as plt\n",
    "%matplotlib inline\n",
    "import pathlib\n",
    "import seaborn as sns\n",
    "import numpy as np\n",
    "from IPython.display import display\n",
    "from scipy.stats import norm\n",
    "\n",
    "# Ruta a los archivos (más ordenado y reutilizable)\n",
    "processed_path = pathlib.Path(\"../data/processed\").resolve()"
   ]
  },
  {
   "cell_type": "markdown",
   "id": "3a302c79452c701c",
   "metadata": {},
   "source": [
    "## Exploración de datos de estudiante"
   ]
  },
  {
   "cell_type": "code",
   "execution_count": null,
   "id": "489be2a11768067",
   "metadata": {
    "ExecuteTime": {
     "end_time": "2025-06-26T01:52:47.980693Z",
     "start_time": "2025-06-26T01:52:47.863081Z"
    }
   },
   "outputs": [],
   "source": [
    "# Cargar datos con columnas ordinales\n",
    "df = pd.read_csv(processed_path/\"studentInfo_ordinal.csv\")\n",
    "\n",
    "# Exploracion de datos\n",
    "# Mostrar forma del dataset\n",
    "print(\"Filas y columnas:\", df.shape)\n",
    "\n",
    "# Primeras filas\n",
    "print(\"\\nPrimeras filas:\")\n",
    "print(df.head())\n",
    "\n",
    "# Valores nulos\n",
    "print(\"\\nValores nulos por columna:\")\n",
    "print(df.isnull().sum())\n",
    "\n",
    "# Estadísticas básicas\n",
    "print(\"\\nEstadísticas básicas:\")\n",
    "print(df.describe(include='all'))\n",
    "\n",
    "\n",
    "# Tablas pivote\n",
    "pivot_table = df.pivot_table(index=\"gender\", columns=\"code_module\", values=\"final_result\", aggfunc=\"count\", fill_value=0)\n",
    "print(pivot_table)"
   ]
  },
  {
   "cell_type": "markdown",
   "id": "9fb91542fe575b68",
   "metadata": {},
   "source": [
    "## Full Domain para Assessment y VLE"
   ]
  },
  {
   "cell_type": "code",
   "execution_count": null,
   "id": "initial_id",
   "metadata": {
    "ExecuteTime": {
     "end_time": "2025-06-26T01:52:48.263453Z",
     "start_time": "2025-06-26T01:52:48.004516Z"
    }
   },
   "outputs": [],
   "source": [
    "# Full Domain son todos los valores distintos de una columna\n",
    "\n",
    "# Cargar datos\n",
    "df_assess = pd.read_csv(processed_path/\"assessments.csv\")\n",
    "df_vle = pd.read_csv(processed_path/\"vle.csv\")\n",
    "\n",
    "# Mostrar dominio completo de 'assessment_type'\n",
    "print(\"Tipos de assessment:\")\n",
    "print(df_assess[\"assessment_type\"].value_counts())\n",
    "\n",
    "# Mostrar dominio completo de 'activity_type'\n",
    "print(\"\\nTipos de actividad VLE:\")\n",
    "print(df_vle[\"activity_type\"].value_counts())\n",
    "\n",
    "# Visualización del dominio de tipos de assessment\n",
    "plt.figure(figsize=(6, 4))\n",
    "df_assess[\"assessment_type\"].value_counts().plot(kind=\"bar\", title=\"Tipos de Assessment\", color=\"skyblue\")\n",
    "plt.xlabel(\"Tipo de assessment\")\n",
    "plt.ylabel(\"Cantidad\")\n",
    "plt.xticks(rotation=45)\n",
    "plt.tight_layout()\n",
    "plt.show()\n",
    "\n",
    "# Visualización del dominio de tipos de actividad VLE\n",
    "plt.figure(figsize=(8, 5))\n",
    "df_vle[\"activity_type\"].value_counts().plot(kind=\"bar\", title=\"Tipos de Actividad VLE\", color=\"orange\")\n",
    "plt.xlabel(\"Tipo de actividad VLE\")\n",
    "plt.ylabel(\"Cantidad\")\n",
    "plt.xticks(rotation=45)\n",
    "plt.tight_layout()\n",
    "plt.show()"
   ]
  },
  {
   "cell_type": "markdown",
   "id": "71f6e73758fdd725",
   "metadata": {},
   "source": [
    "## Matriz de Correlación entre Variables Ordinales"
   ]
  },
  {
   "cell_type": "code",
   "execution_count": null,
   "id": "8d43d31b4a6a5de6",
   "metadata": {
    "ExecuteTime": {
     "end_time": "2025-06-26T01:52:48.457711Z",
     "start_time": "2025-06-26T01:52:48.284332Z"
    }
   },
   "outputs": [],
   "source": [
    "df = pd.read_csv(processed_path/\"studentInfo_ordinal.csv\")\n",
    "\n",
    "# Seleccionar solo las columnas ordinales\n",
    "ordinal_cols = [\"highest_education_ord\", \"age_band_ord\", \"imd_band_ord\", \"final_result_ord\"]\n",
    "\n",
    "# Calcular la matriz de correlación\n",
    "correlation_matrix = df[ordinal_cols].corr()\n",
    "\n",
    "# Visualizar con un heatmap\n",
    "plt.figure(figsize=(8, 6))\n",
    "sns.heatmap(correlation_matrix, annot=True, cmap=\"coolwarm\", fmt=\".2\")\n",
    "plt.title(\"Matriz de Correlación entre Variables Ordinales\")\n",
    "plt.tight_layout()\n",
    "plt.show()"
   ]
  },
  {
   "cell_type": "markdown",
   "id": "b6fab0c19a383e60",
   "metadata": {},
   "source": [
    "## Gráfico de barras para visualizar la cantidad de estudiantes por género y resultado final"
   ]
  },
  {
   "cell_type": "code",
   "execution_count": null,
   "id": "33a139591c562c07",
   "metadata": {
    "ExecuteTime": {
     "end_time": "2025-06-26T01:52:48.616620Z",
     "start_time": "2025-06-26T01:52:48.478008Z"
    }
   },
   "outputs": [],
   "source": [
    "display(df.pivot_table(index = \"final_result\", columns = \"gender\", aggfunc = {\"id_student\": len}))\n",
    "df.pivot_table(index = \"final_result\", columns = \"gender\", aggfunc = {\"id_student\": len}).plot.bar(figsize=(8,5),title=\"Estudiantes por género y resultado\")"
   ]
  },
  {
   "cell_type": "markdown",
   "id": "909f5c7cc78e69ef",
   "metadata": {},
   "source": [
    "## Matriz de Correlación - Dataset OULAD"
   ]
  },
  {
   "cell_type": "code",
   "execution_count": null,
   "id": "3772ac559920d573",
   "metadata": {
    "ExecuteTime": {
     "end_time": "2025-06-26T01:52:49.185043Z",
     "start_time": "2025-06-26T01:52:48.661404Z"
    }
   },
   "outputs": [],
   "source": [
    "df = pd.read_csv(processed_path/\"studentInfo_ordinal.csv\")\n",
    "df_assessment = pd.read_csv(processed_path/\"studentAssessment.csv\")\n",
    "df_merged = pd.merge(df_assessment, df, on='id_student', how='inner', validate=\"many_to_many\")\n",
    "df_numeric = df_merged.select_dtypes(include=['number'])\n",
    "\n",
    "correlation_matrix = df_numeric.corr()\n",
    "\n",
    "plt.figure(figsize=(12, 8))\n",
    "sns.heatmap(correlation_matrix, annot=True, cmap='coolwarm', fmt=\".2f\", linewidths=0.5)\n",
    "plt.title(\"Matriz de Correlación - Dataset OULAD\")\n",
    "plt.tight_layout()\n",
    "plt.show()"
   ]
  }
 ],
 "metadata": {
  "kernelspec": {
   "display_name": "Python 3 (ipykernel)",
   "language": "python",
   "name": "python3"
  },
  "language_info": {
   "codemirror_mode": {
    "name": "ipython",
    "version": 3
   },
   "file_extension": ".py",
   "mimetype": "text/x-python",
   "name": "python",
   "nbconvert_exporter": "python",
   "pygments_lexer": "ipython3",
   "version": "3.12.0"
  }
 },
 "nbformat": 4,
 "nbformat_minor": 5
}
